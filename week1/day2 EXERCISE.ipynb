{
 "cells": [
  {
   "cell_type": "markdown",
   "id": "d15d8294-3328-4e07-ad16-8a03e9bbfdb9",
   "metadata": {},
   "source": [
    "# Welcome to your first assignment!\n",
    "\n",
    "Instructions are below. Please give this a try, and look in the solutions folder if you get stuck (or feel free to ask me!)"
   ]
  },
  {
   "cell_type": "markdown",
   "id": "ada885d9-4d42-4d9b-97f0-74fbbbfe93a9",
   "metadata": {},
   "source": [
    "<table style=\"margin: 0; text-align: left;\">\n",
    "    <tr>\n",
    "        <td style=\"width: 150px; height: 150px; vertical-align: middle;\">\n",
    "            <img src=\"../resources.jpg\" width=\"150\" height=\"150\" style=\"display: block;\" />\n",
    "        </td>\n",
    "        <td>\n",
    "            <h2 style=\"color:#f71;\">Just before we get to the assignment --</h2>\n",
    "            <span style=\"color:#f71;\">I thought I'd take a second to point you at this page of useful resources for the course. This includes links to all the slides.<br/>\n",
    "            <a href=\"https://edwarddonner.com/2024/11/13/llm-engineering-resources/\">https://edwarddonner.com/2024/11/13/llm-engineering-resources/</a><br/>\n",
    "            Please keep this bookmarked, and I'll continue to add more useful links there over time.\n",
    "            </span>\n",
    "        </td>\n",
    "    </tr>\n",
    "</table>"
   ]
  },
  {
   "cell_type": "markdown",
   "id": "6e9fa1fc-eac5-4d1d-9be4-541b3f2b3458",
   "metadata": {},
   "source": [
    "# HOMEWORK EXERCISE ASSIGNMENT\n",
    "\n",
    "Upgrade the day 1 project to summarize a webpage to use an Open Source model running locally via Ollama rather than OpenAI\n",
    "\n",
    "You'll be able to use this technique for all subsequent projects if you'd prefer not to use paid APIs.\n",
    "\n",
    "**Benefits:**\n",
    "1. No API charges - open-source\n",
    "2. Data doesn't leave your box\n",
    "\n",
    "**Disadvantages:**\n",
    "1. Significantly less power than Frontier Model\n",
    "\n",
    "## Recap on installation of Ollama\n",
    "\n",
    "Simply visit [ollama.com](https://ollama.com) and install!\n",
    "\n",
    "Once complete, the ollama server should already be running locally.  \n",
    "If you visit:  \n",
    "[http://localhost:11434/](http://localhost:11434/)\n",
    "\n",
    "You should see the message `Ollama is running`.  \n",
    "\n",
    "If not, bring up a new Terminal (Mac) or Powershell (Windows) and enter `ollama serve`  \n",
    "And in another Terminal (Mac) or Powershell (Windows), enter `ollama pull llama3.2`  \n",
    "Then try [http://localhost:11434/](http://localhost:11434/) again.\n",
    "\n",
    "If Ollama is slow on your machine, try using `llama3.2:1b` as an alternative. Run `ollama pull llama3.2:1b` from a Terminal or Powershell, and change the code below from `MODEL = \"llama3.2\"` to `MODEL = \"llama3.2:1b\"`"
   ]
  },
  {
   "cell_type": "code",
   "execution_count": 1,
   "id": "4e2a9393-7767-488e-a8bf-27c12dca35bd",
   "metadata": {},
   "outputs": [],
   "source": [
    "# imports\n",
    "\n",
    "import requests\n",
    "from bs4 import BeautifulSoup\n",
    "from IPython.display import Markdown, display"
   ]
  },
  {
   "cell_type": "code",
   "execution_count": 2,
   "id": "29ddd15d-a3c5-4f4e-a678-873f56162724",
   "metadata": {},
   "outputs": [],
   "source": [
    "# Constants\n",
    "\n",
    "OLLAMA_API = \"http://localhost:11434/api/chat\"\n",
    "HEADERS = {\"Content-Type\": \"application/json\"}\n",
    "MODEL = \"llama3.2\""
   ]
  },
  {
   "cell_type": "code",
   "execution_count": 3,
   "id": "dac0a679-599c-441f-9bf2-ddc73d35b940",
   "metadata": {},
   "outputs": [],
   "source": [
    "# Create a messages list using the same format that we used for OpenAI\n",
    "\n",
    "messages = [\n",
    "    {\"role\": \"user\", \"content\": \"Describe some of the business applications of Generative AI\"}\n",
    "]"
   ]
  },
  {
   "cell_type": "code",
   "execution_count": 4,
   "id": "7bb9c624-14f0-4945-a719-8ddb64f66f47",
   "metadata": {},
   "outputs": [],
   "source": [
    "payload = {\n",
    "        \"model\": MODEL,\n",
    "        \"messages\": messages,\n",
    "        \"stream\": False\n",
    "    }"
   ]
  },
  {
   "cell_type": "code",
   "execution_count": 5,
   "id": "42b9f644-522d-4e05-a691-56e7658c0ea9",
   "metadata": {},
   "outputs": [
    {
     "name": "stdout",
     "output_type": "stream",
     "text": [
      "Generative AI has numerous business applications across various industries, including:\n",
      "\n",
      "1. **Content Creation**: Generative AI can be used to create personalized content such as social media posts, product descriptions, and blog articles, saving time and increasing efficiency for marketers.\n",
      "2. **Product Design**: Generative AI can assist in designing products by generating prototypes, testing their feasibility, and optimizing their design.\n",
      "3. **Image and Video Generation**: Generative AI can be used to create high-quality images and videos for marketing campaigns, advertising, and social media content.\n",
      "4. **Customer Service Chatbots**: Generative AI-powered chatbots can provide 24/7 customer support, answering frequent questions and helping customers with simple queries.\n",
      "5. **Content Writing**: Generative AI can assist in writing articles, blog posts, and other written content, freeing up human writers to focus on more complex tasks.\n",
      "6. **Language Translation**: Generative AI-powered translation tools can help businesses communicate with global audiences by translating documents, websites, and other materials.\n",
      "7. **Music Composition**: Generative AI can be used to compose music for advertising, film scores, or even video games.\n",
      "8. **Data Analysis**: Generative AI can analyze large datasets to identify patterns, predict trends, and provide insights that human analysts might miss.\n",
      "9. **Predictive Maintenance**: Generative AI can be used to predict equipment failures, reducing downtime and increasing efficiency in industries such as manufacturing and healthcare.\n",
      "10. **Personalized Recommendations**: Generative AI can help businesses create personalized product recommendations for customers based on their browsing history and purchase behavior.\n",
      "\n",
      "Some specific business applications of Generative AI include:\n",
      "\n",
      "* **Brand Identity**: Generative AI can be used to generate brand identities, logos, and color palettes that align with a company's values and target audience.\n",
      "* **Social Media Management**: Generative AI can help businesses create social media content, schedule posts, and engage with followers in real-time.\n",
      "* **Content Optimization**: Generative AI can analyze website content, suggest improvements, and optimize SEO for better search engine rankings.\n",
      "* **Product Recommendation Engines**: Generative AI can be used to build recommendation engines that suggest products based on customer behavior and preferences.\n",
      "\n",
      "Overall, Generative AI has the potential to transform businesses by automating repetitive tasks, improving decision-making, and enhancing customer experiences.\n"
     ]
    }
   ],
   "source": [
    "response = requests.post(OLLAMA_API, json=payload, headers=HEADERS)\n",
    "print(response.json()['message']['content'])"
   ]
  },
  {
   "cell_type": "markdown",
   "id": "6a021f13-d6a1-4b96-8e18-4eae49d876fe",
   "metadata": {},
   "source": [
    "# Introducing the ollama package\n",
    "\n",
    "And now we'll do the same thing, but using the elegant ollama python package instead of a direct HTTP call.\n",
    "\n",
    "Under the hood, it's making the same call as above to the ollama server running at localhost:11434"
   ]
  },
  {
   "cell_type": "code",
   "execution_count": 6,
   "id": "7745b9c4-57dc-4867-9180-61fa5db55eb8",
   "metadata": {},
   "outputs": [
    {
     "name": "stdout",
     "output_type": "stream",
     "text": [
      "Generative AI has numerous business applications across various industries, including:\n",
      "\n",
      "1. **Content Creation**: Generative AI can generate high-quality content such as articles, social media posts, product descriptions, and even entire books. This can help businesses reduce content creation costs and improve consistency.\n",
      "2. **Product Design and Development**: Generative AI can assist in designing new products, such as furniture, cars, or electronics, by generating 3D models, prototypes, and user interfaces.\n",
      "3. **Marketing and Advertising**: Generative AI can create personalized ad copy, product recommendations, and social media ads, improving campaign engagement and conversion rates.\n",
      "4. **Customer Service Chatbots**: Generative AI-powered chatbots can provide 24/7 customer support, respond to common queries, and even offer personalized advice and solutions.\n",
      "5. **Data Analysis and Visualization**: Generative AI can help analyze large datasets, identify patterns, and create visualizations to present insights to stakeholders, improving business decision-making.\n",
      "6. **Supply Chain Optimization**: Generative AI can optimize supply chain operations by predicting demand, managing inventory levels, and streamlining logistics and shipping routes.\n",
      "7. **Financial Analysis and Predictive Modeling**: Generative AI can analyze financial data, identify trends, and make predictions about future market performance, helping businesses make informed investment decisions.\n",
      "8. **Cybersecurity Threat Detection**: Generative AI-powered systems can detect and respond to cyber threats in real-time, improving security posture and reducing the risk of data breaches.\n",
      "9. **Virtual Event Planning**: Generative AI can help plan and execute virtual events by generating engaging content, recommending speakers, and creating interactive experiences.\n",
      "10. **Predictive Maintenance**: Generative AI can analyze equipment performance data, predict maintenance needs, and schedule proactive repairs, reducing downtime and improving overall efficiency.\n",
      "\n",
      "Some specific examples of businesses that are already leveraging generative AI include:\n",
      "\n",
      "* **Amazon**: Uses generative AI to personalize product recommendations and create new content for its online store.\n",
      "* **Microsoft**: Utilizes generative AI to develop intelligent chatbots and virtual assistants for customer support.\n",
      "* **Accenture**: Employs generative AI to analyze financial data, identify trends, and make predictions about future market performance.\n",
      "* **BMW**: Uses generative AI to design and develop new car models, including 3D printing of prototypes.\n",
      "\n",
      "These are just a few examples of the many businesses that are exploring the potential of generative AI. As the technology continues to evolve, we can expect to see even more innovative applications across various industries.\n"
     ]
    }
   ],
   "source": [
    "import ollama\n",
    "\n",
    "response = ollama.chat(model=MODEL, messages=messages)\n",
    "print(response['message']['content'])"
   ]
  },
  {
   "cell_type": "markdown",
   "id": "1622d9bb-5c68-4d4e-9ca4-b492c751f898",
   "metadata": {},
   "source": [
    "# NOW the exercise for you\n",
    "\n",
    "Take the code from day1 and incorporate it here, to build a website summarizer that uses Llama 3.2 running locally instead of OpenAI"
   ]
  },
  {
   "cell_type": "code",
   "execution_count": 7,
   "id": "57ef2553-3cd1-4c69-858b-7725bd826ef7",
   "metadata": {},
   "outputs": [],
   "source": [
    "# A class to represent a Webpage\n",
    "# If you're not familiar with Classes, check out the \"Intermediate Python\" notebook\n",
    "\n",
    "class Website:\n",
    "\n",
    "    def __init__(self, url):\n",
    "        \"\"\"\n",
    "        Create this Website object from the given url using the BeautifulSoup library\n",
    "        \"\"\"\n",
    "        self.url = url\n",
    "        response = requests.get(url)\n",
    "        soup = BeautifulSoup(response.content, 'html.parser')\n",
    "        self.title = soup.title.string if soup.title else \"No title found\"\n",
    "        for irrelevant in soup.body([\"script\", \"style\", \"img\", \"input\"]):\n",
    "            irrelevant.decompose()\n",
    "        self.text = soup.body.get_text(separator=\"\\n\", strip=True)"
   ]
  },
  {
   "cell_type": "code",
   "execution_count": 8,
   "id": "360061bf-8b0f-4235-9167-06daded7f119",
   "metadata": {},
   "outputs": [],
   "source": [
    "# Define our system prompt - you can experiment with this later, changing the last sentence to 'Respond in markdown in Spanish.\"\n",
    "\n",
    "system_prompt = \"You are an assistant that analyzes the contents of a website \\\n",
    "and provides a short summary, ignoring text that might be navigation related. \\\n",
    "Respond in markdown.\""
   ]
  },
  {
   "cell_type": "code",
   "execution_count": 9,
   "id": "87501205-ccfd-4e1c-88ae-a2f78003ec6b",
   "metadata": {},
   "outputs": [],
   "source": [
    "# A function that writes a User Prompt that asks for summaries of websites:\n",
    "\n",
    "def user_prompt_for(website):\n",
    "    user_prompt = f\"You are looking at a website titled {website.title}\"\n",
    "    user_prompt += \"\\nThe contents of this website is as follows; \\\n",
    "please provide a short summary of this website in markdown. \\\n",
    "If it includes news or announcements, then summarize these too.\\n\\n\"\n",
    "    user_prompt += website.text\n",
    "    return user_prompt"
   ]
  },
  {
   "cell_type": "code",
   "execution_count": 10,
   "id": "77da25f9-73a9-4dc7-a803-3b87360f9e11",
   "metadata": {},
   "outputs": [],
   "source": [
    "def messages_for(website):\n",
    "    return [\n",
    "        {\"role\": \"system\", \"content\": system_prompt},\n",
    "        {\"role\": \"user\", \"content\": user_prompt_for(website)}\n",
    "    ]"
   ]
  },
  {
   "cell_type": "code",
   "execution_count": 11,
   "id": "ea6ba056-bbf5-46ee-96db-4db8379d1169",
   "metadata": {},
   "outputs": [],
   "source": [
    "def summarize(url):\n",
    "    website = Website(url)\n",
    "    response = ollama.chat(model=MODEL, messages=messages_for(website))\n",
    "    return response['message']['content']"
   ]
  },
  {
   "cell_type": "code",
   "execution_count": 12,
   "id": "5dfafb26-9622-484f-b61d-ceaaac3d0282",
   "metadata": {},
   "outputs": [
    {
     "data": {
      "text/plain": [
       "'**Website Summary**\\n=====================\\n\\n*   **Mission**: Apply AI to help people discover their potential and pursue their purpose.\\n*   **Product**: Nebula.io, a platform that sources, understands, engages, and manages talent for recruiters.\\n\\n**Recent News/Announcements**\\n-----------------------------\\n\\n### Mastering AI and LLM Engineering – Resources (Nov 13, 2024)\\n\\nResources available to learn about mastering AI and LLM engineering.\\n\\n### From Software Engineer to AI Data Scientist – resources (Oct 16, 2024)\\n\\nAdditional resources for those looking to transition from software engineer to AI data scientist.\\n\\n### Outsmart LLM Arena – a battle of diplomacy and deviousness (Jun 26, 2024)\\n\\nAn arena where large language models compete in a battle of wits.\\n\\n### Choosing the Right LLM: Toolkit and Resources (Aug 6, 2024)\\n\\nA collection of tools and resources for choosing the right large language model.'"
      ]
     },
     "execution_count": 12,
     "metadata": {},
     "output_type": "execute_result"
    }
   ],
   "source": [
    "summarize(\"https://edwarddonner.com\")"
   ]
  },
  {
   "cell_type": "code",
   "execution_count": 14,
   "id": "e587ddb6-e7e5-454f-aabd-81daa713feba",
   "metadata": {},
   "outputs": [
    {
     "name": "stdout",
     "output_type": "stream",
     "text": [
      "### Google Website Summary\n",
      "\n",
      "#### Overview\n",
      "The website is the official homepage of Google, a multinational technology giant.\n",
      "\n",
      "#### Featured Sections\n",
      "\n",
      "*   **Services**: Offers various services including Search, Images, Maps, Play, YouTube, and more.\n",
      "*   **Sign-in and Settings**: Allows users to sign in and access their account settings.\n",
      "*   **Advanced Features**: Includes features like Web History and Advanced search.\n",
      "*   **Language Support**: Available in multiple languages.\n",
      "*   **Support Pages**: Links to Advertising, Business Solutions, About Google, and Privacy pages.\n",
      "\n",
      "#### No News or Announcements Found\n",
      "There are no news or announcements on the homepage.\n"
     ]
    }
   ],
   "source": [
    "print(summarize(\"https://google.com\"))"
   ]
  },
  {
   "cell_type": "code",
   "execution_count": 17,
   "id": "cd06c0df-382d-4da1-8858-c2315e55790f",
   "metadata": {},
   "outputs": [
    {
     "name": "stdout",
     "output_type": "stream",
     "text": [
      "**Facebook Website Summary**\n",
      "==========================\n",
      "\n",
      "### Overview\n",
      "\n",
      "Facebook is a social networking platform that allows users to connect with others and share content.\n",
      "\n",
      "### Features\n",
      "\n",
      "* **Login/Sign-up**: Users can log in or sign up for an account.\n",
      "* **Language Options**: The website offers multiple language options, including Hindi, Urdu, Punjabi, Bengali, Gujarati, Marathi, Tamil, Telugu, Malayalam, Kannada, and English (UK).\n",
      "* **Other Services**: Facebook offers additional services such as Messenger, Facebook Lite, Video, Marketplace, Meta Pay, Meta Store, Meta Quest, Ray-Ban Meta, Meta AI, Instagram, Threads, Donations Center, and Voting Information Center.\n",
      "\n",
      "### Security and Policies\n",
      "\n",
      "* **Privacy Policy**: The website provides a privacy policy for users.\n",
      "* **Privacy Center**: A dedicated page for managing user privacy settings.\n",
      "* **Terms of Service**: Users must agree to the terms of service before using the platform.\n",
      "* **Cookies**: The website uses cookies for advertising purposes.\n",
      "\n",
      "### Developer Resources\n",
      "\n",
      "* **Developer Platform**: Facebook offers a developer platform for building applications and integrating services.\n",
      "* **Career Opportunities**: The website provides career opportunities for developers and other professionals.\n",
      "\n",
      "### Help Center\n",
      "\n",
      "* **Help Center**: A resource center for users to find answers to common questions and troubleshoot issues.\n"
     ]
    }
   ],
   "source": [
    "print(summarize(\"https://www.facebook.com\"))"
   ]
  },
  {
   "cell_type": "code",
   "execution_count": 22,
   "id": "f4065605-00d9-4cc3-b74c-81f95f5c6c38",
   "metadata": {},
   "outputs": [
    {
     "name": "stdout",
     "output_type": "stream",
     "text": [
      "# Website Summary\n",
      "\n",
      "## Description\n",
      "Just a moment... is a website with no apparent content or purpose. The only message displayed is \"Enable JavaScript and cookies to continue\", suggesting that the website requires enabling JavaScript and cookie permissions in order to function properly.\n",
      "\n",
      "## No News or Announcements Found\n",
      "There are no news articles, announcements, or updates on this website at present.\n"
     ]
    }
   ],
   "source": [
    "print(summarize(\"https://perplexity.ai\"))"
   ]
  },
  {
   "cell_type": "code",
   "execution_count": null,
   "id": "124f5c06-6735-4913-a4db-5b938637255b",
   "metadata": {},
   "outputs": [],
   "source": []
  }
 ],
 "metadata": {
  "kernelspec": {
   "display_name": "Python 3 (ipykernel)",
   "language": "python",
   "name": "python3"
  },
  "language_info": {
   "codemirror_mode": {
    "name": "ipython",
    "version": 3
   },
   "file_extension": ".py",
   "mimetype": "text/x-python",
   "name": "python",
   "nbconvert_exporter": "python",
   "pygments_lexer": "ipython3",
   "version": "3.11.10"
  }
 },
 "nbformat": 4,
 "nbformat_minor": 5
}
