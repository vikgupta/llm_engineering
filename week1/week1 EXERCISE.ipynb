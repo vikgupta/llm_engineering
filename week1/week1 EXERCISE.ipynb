{
 "cells": [
  {
   "cell_type": "markdown",
   "id": "fe12c203-e6a6-452c-a655-afb8a03a4ff5",
   "metadata": {},
   "source": [
    "# End of week 1 exercise\n",
    "\n",
    "To demonstrate your familiarity with OpenAI API, and also Ollama, build a tool that takes a technical question,  \n",
    "and responds with an explanation. This is a tool that you will be able to use yourself during the course!"
   ]
  },
  {
   "cell_type": "code",
   "execution_count": 8,
   "id": "c1070317-3ed9-4659-abe3-828943230e03",
   "metadata": {},
   "outputs": [],
   "source": [
    "# imports\n",
    "import ollama\n",
    "from IPython.display import Markdown, display"
   ]
  },
  {
   "cell_type": "code",
   "execution_count": 9,
   "id": "4a456906-915a-4bfd-bb9d-57e505c5093f",
   "metadata": {},
   "outputs": [],
   "source": [
    "# constants\n",
    "\n",
    "MODEL_GPT = 'gpt-4o-mini'\n",
    "MODEL_LLAMA = 'llama3.2'"
   ]
  },
  {
   "cell_type": "code",
   "execution_count": 10,
   "id": "a8d7923c-5f28-4c30-8556-342d7c8497c1",
   "metadata": {},
   "outputs": [],
   "source": [
    "# set up environment\n",
    "system_prompt = \"\"\"\n",
    "You are an AI assistant that helps with a detailed explanation on the technical questions. \n",
    "You specialize in python, machine learning, and artificial intelligence concepts and your MVP is the detailed explanation that you provide that helps\n",
    "even a layman understand what's happening.\n",
    "Respond in markdown.\n",
    "\"\"\""
   ]
  },
  {
   "cell_type": "code",
   "execution_count": 11,
   "id": "3f0d0137-52b0-47a8-81a8-11a90a010798",
   "metadata": {},
   "outputs": [],
   "source": [
    "# here is the question; type over this to ask something new\n",
    "\n",
    "question = \"\"\"\n",
    "Please explain what this code does and why:\n",
    "yield from {book.get(\"author\") for book in books if book.get(\"author\")}\n",
    "\"\"\""
   ]
  },
  {
   "cell_type": "code",
   "execution_count": 12,
   "id": "bb7fb332-fa21-4b53-83b4-ec1f6725e166",
   "metadata": {},
   "outputs": [],
   "source": [
    "# set up message\n",
    "\n",
    "MESSAGES = [\n",
    "    {\"role\": \"system\", \"content\": system_prompt},\n",
    "    {\"role\": \"user\", \"content\": question}\n",
    "]"
   ]
  },
  {
   "cell_type": "code",
   "execution_count": 13,
   "id": "60ce7000-a4a5-4cce-a261-e75ef45063b4",
   "metadata": {},
   "outputs": [],
   "source": [
    "# Get gpt-4o-mini to answer, with streaming"
   ]
  },
  {
   "cell_type": "code",
   "execution_count": 14,
   "id": "8f7c8ea8-4082-4ad0-8751-3301adcf6538",
   "metadata": {},
   "outputs": [],
   "source": [
    "# Get Llama 3.2 to answer\n",
    "def ask_assistant():\n",
    "    response = ollama.chat(model=MODEL_LLAMA, messages=MESSAGES)\n",
    "    result = response['message']['content']\n",
    "    display(Markdown(result))"
   ]
  },
  {
   "cell_type": "code",
   "execution_count": 15,
   "id": "b8cc6818-1124-4668-a9e0-233199d1d969",
   "metadata": {},
   "outputs": [
    {
     "data": {
      "text/markdown": [
       "**Understanding the Code**\n",
       "==========================\n",
       "\n",
       "The given code snippet is written in Python and utilizes a concept called **generators**.\n",
       "\n",
       "**Code Breakdown**\n",
       "-----------------\n",
       "\n",
       "Here's a step-by-step explanation of what each part of the code does:\n",
       "\n",
       "```python\n",
       "{book.get(\"author\") for book in books if book.get(\"author\")}\n",
       "```\n",
       "\n",
       "*   This is an example of a **list comprehension**, which creates a new list by performing an operation on each item in an existing list or other iterable (in this case, `books`).\n",
       "*   The expression inside the curly brackets (`{}`) is where the magic happens. It's using **iteration** to access and manipulate data.\n",
       "*   `book.get(\"author\")` tries to retrieve a value associated with the key `\"author\"` from the dictionary-like object `book`. This returns either the value or `None`, depending on whether the key exists.\n",
       "\n",
       "**The Yield From Statement**\n",
       "---------------------------\n",
       "\n",
       "Now, let's add the `yield from` statement:\n",
       "\n",
       "```python\n",
       "yield from {book.get(\"author\") for book in books if book.get(\"author\")}\n",
       "```\n",
       "\n",
       "*   The `yield from` keyword is used to **destructure a generator iterable**.\n",
       "*   In this case, it takes the list comprehension expression (`{...}`) and turns it into a generator that produces one value at a time.\n",
       "\n",
       "**How It Works**\n",
       "----------------\n",
       "\n",
       "Here's what happens when you run this code:\n",
       "\n",
       "1.  The `yield from` statement sends each item in the list (the author names) to the caller, but **without actually creating them all at once**.\n",
       "2.  Instead of storing all the items in a temporary data structure (which would be inefficient for large datasets), it creates an iterator that produces one value at a time.\n",
       "\n",
       "**Benefits**\n",
       "------------\n",
       "\n",
       "Using `yield from` has several benefits:\n",
       "\n",
       "*   **Memory efficiency**: It avoids loading the entire list into memory, making it suitable for handling large datasets.\n",
       "*   **Flexibility**: You can now use the generated values in your code without having to worry about creating intermediate lists or data structures.\n",
       "\n",
       "**Example Use Case**\n",
       "--------------------\n",
       "\n",
       "Here's an example of how you might use this `yield from` statement:\n",
       "\n",
       "```python\n",
       "def generate_authors(books):\n",
       "    yield from {book.get(\"author\") for book in books if book.get(\"author)}\n",
       "\n",
       "for author in generate_authors(my_books):\n",
       "    print(author)\n",
       "```\n",
       "\n",
       "In this example, the function `generate_authors` takes a list of dictionaries (`my_books`) and generates an iterator that produces the authors' names one by one. The outer loop then prints each author's name as it's produced by the generator.\n",
       "\n",
       "I hope this explanation helps you understand what this code snippet does and how it works!"
      ],
      "text/plain": [
       "<IPython.core.display.Markdown object>"
      ]
     },
     "metadata": {},
     "output_type": "display_data"
    }
   ],
   "source": [
    "ask_assistant()"
   ]
  }
 ],
 "metadata": {
  "kernelspec": {
   "display_name": "Python 3 (ipykernel)",
   "language": "python",
   "name": "python3"
  },
  "language_info": {
   "codemirror_mode": {
    "name": "ipython",
    "version": 3
   },
   "file_extension": ".py",
   "mimetype": "text/x-python",
   "name": "python",
   "nbconvert_exporter": "python",
   "pygments_lexer": "ipython3",
   "version": "3.11.10"
  }
 },
 "nbformat": 4,
 "nbformat_minor": 5
}
